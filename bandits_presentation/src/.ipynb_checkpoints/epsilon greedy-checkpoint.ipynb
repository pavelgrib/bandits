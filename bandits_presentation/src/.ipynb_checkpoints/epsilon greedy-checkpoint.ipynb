{
 "metadata": {
  "name": ""
 },
 "nbformat": 3,
 "nbformat_minor": 0,
 "worksheets": [
  {
   "cells": [
    {
     "cell_type": "markdown",
     "metadata": {},
     "source": [
      "Useful imports"
     ]
    },
    {
     "cell_type": "code",
     "collapsed": false,
     "input": [
      "from __future__ import division # in the future all numbers will be treated equally\n",
      "import numpy as np\n",
      "import scipy as sp\n",
      "import pandas as pd\n",
      "import matplotlib.pyplot as plt"
     ],
     "language": "python",
     "metadata": {},
     "outputs": [],
     "prompt_number": 2
    },
    {
     "cell_type": "markdown",
     "metadata": {},
     "source": [
      "Let's assume we are trying to determine between 10 different colors (i.e. bandits): $c_1, c_2, \\ldots, c_{10}$ for a button on our site.  We call it a success if the user clicks on the button that was served, otherwise it's a failure.  Also, we will set it up so that the color $c_4$ is the winner (so it will have the highest $\\alpha$)."
     ]
    },
    {
     "cell_type": "code",
     "collapsed": false,
     "input": [
      "user_visits = 10000\n",
      "alphas = [0.01, 0.008, 0.022, 0.019, 0.038, 0.036, 0.029, 0.015, 0.003, 0.011]\n",
      "assert len(alphas) == 10\n",
      "bandits = pd.DataFrame(data=1, columns=['wins', 'count', 'perf', 'alpha'], index = range(10))\n",
      "bandits['alpha'] = alphas\n",
      "epsilon = 0.3\n",
      "\n",
      "randoms2 = np.random.rand(user_visits)\n",
      "randoms1 = np.random.rand(user_visits)"
     ],
     "language": "python",
     "metadata": {},
     "outputs": [],
     "prompt_number": 3
    },
    {
     "cell_type": "code",
     "collapsed": false,
     "input": [
      "for i in range(user_visits):\n",
      "    if not i % 1000:\n",
      "        print(i)\n",
      "    if randoms1[i] < epsilon:  # winner gets served\n",
      "        # serve winner\n",
      "        winner = bandits[bandits['perf']==bandits['perf'].max()]\n",
      "        if isinstance(winner, pd.DataFrame):\n",
      "            winneridx = winner.index[0]\n",
      "        else:\n",
      "            winneridx = winner.name\n",
      "    else:\n",
      "        # serve a random bandit\n",
      "        winneridx = np.random.randint(0, 10)\n",
      "    \n",
      "    bandits['count'].ix[winneridx] += 1\n",
      "    if randoms2[i] < bandits['alpha'].ix[winneridx]:\n",
      "        bandits['wins'].ix[winneridx] += 1\n",
      "    \n",
      "    bandits['perf'] = bandits['wins'] / bandits['count']"
     ],
     "language": "python",
     "metadata": {},
     "outputs": [
      {
       "output_type": "stream",
       "stream": "stdout",
       "text": [
        "0\n",
        "1000"
       ]
      },
      {
       "output_type": "stream",
       "stream": "stdout",
       "text": [
        "\n",
        "2000"
       ]
      },
      {
       "output_type": "stream",
       "stream": "stdout",
       "text": [
        "\n",
        "3000"
       ]
      },
      {
       "output_type": "stream",
       "stream": "stdout",
       "text": [
        "\n",
        "4000"
       ]
      },
      {
       "output_type": "stream",
       "stream": "stdout",
       "text": [
        "\n",
        "5000"
       ]
      },
      {
       "output_type": "stream",
       "stream": "stdout",
       "text": [
        "\n",
        "6000"
       ]
      },
      {
       "output_type": "stream",
       "stream": "stdout",
       "text": [
        "\n",
        "7000"
       ]
      },
      {
       "output_type": "stream",
       "stream": "stdout",
       "text": [
        "\n",
        "8000"
       ]
      },
      {
       "output_type": "stream",
       "stream": "stdout",
       "text": [
        "\n",
        "9000"
       ]
      },
      {
       "output_type": "stream",
       "stream": "stdout",
       "text": [
        "\n"
       ]
      }
     ],
     "prompt_number": 4
    },
    {
     "cell_type": "code",
     "collapsed": false,
     "input": [
      "bandits"
     ],
     "language": "python",
     "metadata": {},
     "outputs": [
      {
       "html": [
        "<div style=\"max-height:1000px;max-width:1500px;overflow:auto;\">\n",
        "<table border=\"1\" class=\"dataframe\">\n",
        "  <thead>\n",
        "    <tr style=\"text-align: right;\">\n",
        "      <th></th>\n",
        "      <th>wins</th>\n",
        "      <th>count</th>\n",
        "      <th>perf</th>\n",
        "      <th>alpha</th>\n",
        "    </tr>\n",
        "  </thead>\n",
        "  <tbody>\n",
        "    <tr>\n",
        "      <th>0</th>\n",
        "      <td>   9</td>\n",
        "      <td>  703</td>\n",
        "      <td> 0.012802</td>\n",
        "      <td> 0.010</td>\n",
        "    </tr>\n",
        "    <tr>\n",
        "      <th>1</th>\n",
        "      <td>   9</td>\n",
        "      <td>  720</td>\n",
        "      <td> 0.012500</td>\n",
        "      <td> 0.008</td>\n",
        "    </tr>\n",
        "    <tr>\n",
        "      <th>2</th>\n",
        "      <td>  16</td>\n",
        "      <td>  683</td>\n",
        "      <td> 0.023426</td>\n",
        "      <td> 0.022</td>\n",
        "    </tr>\n",
        "    <tr>\n",
        "      <th>3</th>\n",
        "      <td>  12</td>\n",
        "      <td>  768</td>\n",
        "      <td> 0.015625</td>\n",
        "      <td> 0.019</td>\n",
        "    </tr>\n",
        "    <tr>\n",
        "      <th>4</th>\n",
        "      <td>  27</td>\n",
        "      <td>  728</td>\n",
        "      <td> 0.037088</td>\n",
        "      <td> 0.038</td>\n",
        "    </tr>\n",
        "    <tr>\n",
        "      <th>5</th>\n",
        "      <td> 137</td>\n",
        "      <td> 3477</td>\n",
        "      <td> 0.039402</td>\n",
        "      <td> 0.036</td>\n",
        "    </tr>\n",
        "    <tr>\n",
        "      <th>6</th>\n",
        "      <td>  17</td>\n",
        "      <td>  734</td>\n",
        "      <td> 0.023161</td>\n",
        "      <td> 0.029</td>\n",
        "    </tr>\n",
        "    <tr>\n",
        "      <th>7</th>\n",
        "      <td>  13</td>\n",
        "      <td>  733</td>\n",
        "      <td> 0.017735</td>\n",
        "      <td> 0.015</td>\n",
        "    </tr>\n",
        "    <tr>\n",
        "      <th>8</th>\n",
        "      <td>   3</td>\n",
        "      <td>  702</td>\n",
        "      <td> 0.004274</td>\n",
        "      <td> 0.003</td>\n",
        "    </tr>\n",
        "    <tr>\n",
        "      <th>9</th>\n",
        "      <td>  10</td>\n",
        "      <td>  762</td>\n",
        "      <td> 0.013123</td>\n",
        "      <td> 0.011</td>\n",
        "    </tr>\n",
        "  </tbody>\n",
        "</table>\n",
        "<p>10 rows \u00d7 4 columns</p>\n",
        "</div>"
       ],
       "metadata": {},
       "output_type": "pyout",
       "prompt_number": 5,
       "text": [
        "   wins  count      perf  alpha\n",
        "0     9    703  0.012802  0.010\n",
        "1     9    720  0.012500  0.008\n",
        "2    16    683  0.023426  0.022\n",
        "3    12    768  0.015625  0.019\n",
        "4    27    728  0.037088  0.038\n",
        "5   137   3477  0.039402  0.036\n",
        "6    17    734  0.023161  0.029\n",
        "7    13    733  0.017735  0.015\n",
        "8     3    702  0.004274  0.003\n",
        "9    10    762  0.013123  0.011\n",
        "\n",
        "[10 rows x 4 columns]"
       ]
      }
     ],
     "prompt_number": 5
    },
    {
     "cell_type": "code",
     "collapsed": false,
     "input": [
      "plt.bar(bandits.index, bandits['perf'])\n",
      "plt.plot(bandits['alpha'], 'r*', markersize=10)\n",
      "plt.show()"
     ],
     "language": "python",
     "metadata": {},
     "outputs": [
      {
       "metadata": {},
       "output_type": "display_data",
       "png": "[encoded data removed]",
       "text": [
        "<matplotlib.figure.Figure at 0x104b051d0>"
       ]
      }
     ],
     "prompt_number": 17
    },
    {
     "cell_type": "code",
     "collapsed": false,
     "input": [],
     "language": "python",
     "metadata": {},
     "outputs": []
    },
    {
     "cell_type": "code",
     "collapsed": false,
     "input": [],
     "language": "python",
     "metadata": {},
     "outputs": []
    },
    {
     "cell_type": "code",
     "collapsed": false,
     "input": [],
     "language": "python",
     "metadata": {},
     "outputs": [],
     "prompt_number": 80
    },
    {
     "cell_type": "code",
     "collapsed": false,
     "input": [],
     "language": "python",
     "metadata": {},
     "outputs": [],
     "prompt_number": 17
    },
    {
     "cell_type": "code",
     "collapsed": false,
     "input": [],
     "language": "python",
     "metadata": {},
     "outputs": [],
     "prompt_number": 17
    },
    {
     "cell_type": "code",
     "collapsed": false,
     "input": [],
     "language": "python",
     "metadata": {},
     "outputs": [],
     "prompt_number": 17
    },
    {
     "cell_type": "markdown",
     "metadata": {},
     "source": [
      "Regret is the difference between the optimal strategy and the "
     ]
    },
    {
     "cell_type": "code",
     "collapsed": false,
     "input": [
      "ab_regret = np.zeros((user_visits * 4, 1))\n",
      "epsilon_regret = np.zeros((user_visits * 4, 1))\n",
      "\n",
      "ab = {i: {'count': 1, 'won': 1, 'perf': 1} for i in range(10)}"
     ],
     "language": "python",
     "metadata": {},
     "outputs": [],
     "prompt_number": 22
    },
    {
     "cell_type": "code",
     "collapsed": false,
     "input": [
      "randoms3 = np.random.rand(user_visits)\n",
      "randoms2 = np.random.rand(user_visits)\n",
      "randoms1 = np.random.rand(user_visits)\n",
      "\n",
      "rnd = 0\n",
      "for i in range(user_visits):\n",
      "    epsilon_won = 0\n",
      "    ab_won = 0\n",
      "    \n",
      "    optimal = 1 if randoms2[i] < max(bandits.alpha) else 0\n",
      "    \n",
      "    # i hate waiting without feedback\n",
      "    if not i % 1000:\n",
      "        print(i)\n",
      "    \n",
      "    ab_winner = int(randoms3[i] * 10)\n",
      "    ab[ab_winner]['count'] += 1\n",
      "    if randoms2[i] < bandits['alpha'].ix[ab_winner]:\n",
      "        ab[ab_winner]['won'] += 1\n",
      "        ab_won = 1\n",
      "    \n",
      "    if randoms1[i] < epsilon:  # winner gets served\n",
      "        # serve winner\n",
      "        winner = bandits[bandits['perf']==bandits['perf'].max()]\n",
      "        if isinstance(winner, pd.DataFrame):\n",
      "            winneridx = winner.index[0]\n",
      "        else:\n",
      "            winneridx = winner.name\n",
      "    else:\n",
      "        # serve a random bandit\n",
      "        winneridx = np.random.randint(0, 10)\n",
      "    \n",
      "    bandits['count'].ix[winneridx] += 1\n",
      "    if randoms2[i] < bandits['alpha'].ix[winneridx]:\n",
      "        epsilon_won = 1\n",
      "        bandits['wins'].ix[winneridx] += 1\n",
      "    \n",
      "    bandits['perf'] = bandits['wins'] / bandits['count']\n",
      "    \n",
      "    epsilon_regret[rnd * user_visits + i] = optimal - epsilon_won\n",
      "    ab_regret[rnd * user_visits + i] = optimal - ab_won"
     ],
     "language": "python",
     "metadata": {},
     "outputs": [
      {
       "output_type": "stream",
       "stream": "stdout",
       "text": [
        "0\n",
        "1000"
       ]
      },
      {
       "output_type": "stream",
       "stream": "stdout",
       "text": [
        "\n",
        "2000"
       ]
      },
      {
       "output_type": "stream",
       "stream": "stdout",
       "text": [
        "\n",
        "3000"
       ]
      },
      {
       "output_type": "stream",
       "stream": "stdout",
       "text": [
        "\n",
        "4000"
       ]
      },
      {
       "output_type": "stream",
       "stream": "stdout",
       "text": [
        "\n",
        "5000"
       ]
      },
      {
       "output_type": "stream",
       "stream": "stdout",
       "text": [
        "\n",
        "6000"
       ]
      },
      {
       "output_type": "stream",
       "stream": "stdout",
       "text": [
        "\n",
        "7000"
       ]
      },
      {
       "output_type": "stream",
       "stream": "stdout",
       "text": [
        "\n",
        "8000"
       ]
      },
      {
       "output_type": "stream",
       "stream": "stdout",
       "text": [
        "\n",
        "9000"
       ]
      },
      {
       "output_type": "stream",
       "stream": "stdout",
       "text": [
        "\n"
       ]
      }
     ],
     "prompt_number": 46
    },
    {
     "cell_type": "code",
     "collapsed": false,
     "input": [
      "for i in range(10):\n",
      "    ab[i]['perf'] = ab[i]['won'] / ab[i]['count']\n",
      "    \n",
      "ab"
     ],
     "language": "python",
     "metadata": {},
     "outputs": [
      {
       "metadata": {},
       "output_type": "pyout",
       "prompt_number": 47,
       "text": [
        "{0: {'count': 1994, 'perf': 0.011534603811434303, 'won': 23},\n",
        " 1: {'count': 2019, 'perf': 0.010401188707280832, 'won': 21},\n",
        " 2: {'count': 1978, 'perf': 0.021739130434782608, 'won': 43},\n",
        " 3: {'count': 1989, 'perf': 0.01860231271995978, 'won': 37},\n",
        " 4: {'count': 2008, 'perf': 0.038346613545816734, 'won': 77},\n",
        " 5: {'count': 2038, 'perf': 0.03729146221786065, 'won': 76},\n",
        " 6: {'count': 2003, 'perf': 0.028457314028956564, 'won': 57},\n",
        " 7: {'count': 2005, 'perf': 0.017955112219451373, 'won': 36},\n",
        " 8: {'count': 1965, 'perf': 0.007633587786259542, 'won': 15},\n",
        " 9: {'count': 2012, 'perf': 0.014910536779324055, 'won': 30}}"
       ]
      }
     ],
     "prompt_number": 47
    },
    {
     "cell_type": "code",
     "collapsed": false,
     "input": [
      "bandits"
     ],
     "language": "python",
     "metadata": {},
     "outputs": [
      {
       "html": [
        "<div style=\"max-height:1000px;max-width:1500px;overflow:auto;\">\n",
        "<table border=\"1\" class=\"dataframe\">\n",
        "  <thead>\n",
        "    <tr style=\"text-align: right;\">\n",
        "      <th></th>\n",
        "      <th>wins</th>\n",
        "      <th>count</th>\n",
        "      <th>perf</th>\n",
        "      <th>alpha</th>\n",
        "    </tr>\n",
        "  </thead>\n",
        "  <tbody>\n",
        "    <tr>\n",
        "      <th>0</th>\n",
        "      <td>  25</td>\n",
        "      <td> 2086</td>\n",
        "      <td> 0.011985</td>\n",
        "      <td> 0.010</td>\n",
        "    </tr>\n",
        "    <tr>\n",
        "      <th>1</th>\n",
        "      <td>  27</td>\n",
        "      <td> 2171</td>\n",
        "      <td> 0.012437</td>\n",
        "      <td> 0.008</td>\n",
        "    </tr>\n",
        "    <tr>\n",
        "      <th>2</th>\n",
        "      <td>  54</td>\n",
        "      <td> 2111</td>\n",
        "      <td> 0.025580</td>\n",
        "      <td> 0.022</td>\n",
        "    </tr>\n",
        "    <tr>\n",
        "      <th>3</th>\n",
        "      <td>  35</td>\n",
        "      <td> 2176</td>\n",
        "      <td> 0.016085</td>\n",
        "      <td> 0.019</td>\n",
        "    </tr>\n",
        "    <tr>\n",
        "      <th>4</th>\n",
        "      <td> 173</td>\n",
        "      <td> 4318</td>\n",
        "      <td> 0.040065</td>\n",
        "      <td> 0.038</td>\n",
        "    </tr>\n",
        "    <tr>\n",
        "      <th>5</th>\n",
        "      <td> 344</td>\n",
        "      <td> 8629</td>\n",
        "      <td> 0.039866</td>\n",
        "      <td> 0.036</td>\n",
        "    </tr>\n",
        "    <tr>\n",
        "      <th>6</th>\n",
        "      <td>  60</td>\n",
        "      <td> 2106</td>\n",
        "      <td> 0.028490</td>\n",
        "      <td> 0.029</td>\n",
        "    </tr>\n",
        "    <tr>\n",
        "      <th>7</th>\n",
        "      <td>  36</td>\n",
        "      <td> 2126</td>\n",
        "      <td> 0.016933</td>\n",
        "      <td> 0.015</td>\n",
        "    </tr>\n",
        "    <tr>\n",
        "      <th>8</th>\n",
        "      <td>   5</td>\n",
        "      <td> 2133</td>\n",
        "      <td> 0.002344</td>\n",
        "      <td> 0.003</td>\n",
        "    </tr>\n",
        "    <tr>\n",
        "      <th>9</th>\n",
        "      <td>  25</td>\n",
        "      <td> 2155</td>\n",
        "      <td> 0.011601</td>\n",
        "      <td> 0.011</td>\n",
        "    </tr>\n",
        "  </tbody>\n",
        "</table>\n",
        "<p>10 rows \u00d7 4 columns</p>\n",
        "</div>"
       ],
       "metadata": {},
       "output_type": "pyout",
       "prompt_number": 48,
       "text": [
        "   wins  count      perf  alpha\n",
        "0    25   2086  0.011985  0.010\n",
        "1    27   2171  0.012437  0.008\n",
        "2    54   2111  0.025580  0.022\n",
        "3    35   2176  0.016085  0.019\n",
        "4   173   4318  0.040065  0.038\n",
        "5   344   8629  0.039866  0.036\n",
        "6    60   2106  0.028490  0.029\n",
        "7    36   2126  0.016933  0.015\n",
        "8     5   2133  0.002344  0.003\n",
        "9    25   2155  0.011601  0.011\n",
        "\n",
        "[10 rows x 4 columns]"
       ]
      }
     ],
     "prompt_number": 48
    },
    {
     "cell_type": "code",
     "collapsed": false,
     "input": [
      "plt.plot(ab_regret[:user_visits].cumsum())\n",
      "plt.plot(epsilon_regret[:user_visits].cumsum())\n",
      "plt.show()"
     ],
     "language": "python",
     "metadata": {},
     "outputs": [
      {
       "metadata": {},
       "output_type": "display_data",
       "png": "[encoded data removed]",
       "text": [
        "<matplotlib.figure.Figure at 0x104b85590>"
       ]
      }
     ],
     "prompt_number": 49
    },
    {
     "cell_type": "code",
     "collapsed": false,
     "input": [],
     "language": "python",
     "metadata": {},
     "outputs": [],
     "prompt_number": 51
    },
    {
     "cell_type": "code",
     "collapsed": false,
     "input": [],
     "language": "python",
     "metadata": {},
     "outputs": [],
     "prompt_number": 51
    },
    {
     "cell_type": "code",
     "collapsed": false,
     "input": [],
     "language": "python",
     "metadata": {},
     "outputs": []
    }
   ],
   "metadata": {}
  }
 ]
}
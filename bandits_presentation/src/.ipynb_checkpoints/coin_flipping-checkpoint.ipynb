{
 "metadata": {
  "name": ""
 },
 "nbformat": 3,
 "nbformat_minor": 0,
 "worksheets": [
  {
   "cells": [
    {
     "cell_type": "markdown",
     "metadata": {},
     "source": [
      "Importing useful packages and defining an"
     ]
    },
    {
     "cell_type": "code",
     "collapsed": false,
     "input": [
      "import numpy as np\n",
      "import scipy as sp\n",
      "from scipy import stats\n",
      "import matplotlib.pyplot as plt"
     ],
     "language": "python",
     "metadata": {},
     "outputs": [],
     "prompt_number": 6
    },
    {
     "cell_type": "markdown",
     "metadata": {},
     "source": [
      "Example of the distribution of the number of heads flipped after N trials"
     ]
    },
    {
     "cell_type": "code",
     "collapsed": false,
     "input": [
      "N = 100\n",
      "\n",
      "plt.hist(sp.random.binomial(N, 0.5, N), bins=.3 * N, range=[N * .35, N * .65])\n",
      "x = np.linspace(N * .35, N * .65, .3 * N + 1)\n",
      "rv = stats.binom(p = 0.5, n = N)\n",
      "y = N * np.apply_along_axis(rv.pmf, 0, x)\n",
      "plt.plot(x, y)\n",
      "plt.vlines(x = [48, 52], ymin=0, ymax=N / 5, colors=['r', 'g'], linewidths=2)\n",
      "plt.show()"
     ],
     "language": "python",
     "metadata": {},
     "outputs": [
      {
       "metadata": {},
       "output_type": "display_data",
       "png": "[encoded data removed]",
       "text": [
        "<matplotlib.figure.Figure at 0x116569b50>"
       ]
      }
     ],
     "prompt_number": 87
    },
    {
     "cell_type": "markdown",
     "metadata": {},
     "source": [
      "Now we sample from the binomial and look at how the differences are distributed"
     ]
    },
    {
     "cell_type": "code",
     "collapsed": false,
     "input": [
      "x = sp.random.binomial(100, 0.5, 100) - sp.random.binomial(100, 0.5, 100)"
     ],
     "language": "python",
     "metadata": {},
     "outputs": [],
     "prompt_number": 88
    },
    {
     "cell_type": "code",
     "collapsed": false,
     "input": [
      "plt.hist(x)"
     ],
     "language": "python",
     "metadata": {},
     "outputs": [
      {
       "metadata": {},
       "output_type": "pyout",
       "prompt_number": 89,
       "text": [
        "(array([  8.,   9.,  17.,  19.,  21.,   8.,   9.,   5.,   3.,   1.]),\n",
        " array([-15. , -11.3,  -7.6,  -3.9,  -0.2,   3.5,   7.2,  10.9,  14.6,\n",
        "        18.3,  22. ]),\n",
        " <a list of 10 Patch objects>)"
       ]
      },
      {
       "metadata": {},
       "output_type": "display_data",
       "png": "[encoded data removed]",
       "text": [
        "<matplotlib.figure.Figure at 0x115b10890>"
       ]
      }
     ],
     "prompt_number": 89
    },
    {
     "cell_type": "code",
     "collapsed": false,
     "input": [
      "sample1 = sample_bernoulli(100, 1)\n",
      "sample2 = sample_bernoulli(100, 1)\n",
      "\n",
      "print(np.mean(sample1), np.mean(sample2))\n",
      "print(np.var(sample1), np.var(sample2))"
     ],
     "language": "python",
     "metadata": {},
     "outputs": [
      {
       "output_type": "stream",
       "stream": "stdout",
       "text": [
        "(0.46000000000000002, 0.51000000000000001)\n",
        "(0.24840000000000018, 0.24989999999999973)\n"
       ]
      }
     ],
     "prompt_number": 81
    },
    {
     "cell_type": "code",
     "collapsed": false,
     "input": [
      "t = (np.mean(sample2) - np.mean(sample1)) / np.sqrt(np.var(sample1)/100 + np.var(sample2)/100)\n",
      "print(t)"
     ],
     "language": "python",
     "metadata": {},
     "outputs": [
      {
       "output_type": "stream",
       "stream": "stdout",
       "text": [
        "0.708311936733\n"
       ]
      }
     ],
     "prompt_number": 86
    },
    {
     "cell_type": "markdown",
     "metadata": {},
     "source": [
      "After having calculated a t-statistic of 0.71, we consult a t-test table (https://home.comcast.net/~sharov/PopEcol/tables/t.html) and in order to reject the hypothesis that our two samples came from different distributions, we would need to be sure that our t-statistic is highly unlikely, i.e. shows up less than 5% of the time... this would mean a t-statistic of 1.97 (according to the table).  Notice that there are three ways to increase the t-statistic: \n",
      "\n",
      "* Increase the differences of the means\n",
      "* Decrease the variances\n",
      "* Increase the number of samples $n_1$ and $n_1$"
     ]
    },
    {
     "cell_type": "code",
     "collapsed": false,
     "input": [],
     "language": "python",
     "metadata": {},
     "outputs": []
    }
   ],
   "metadata": {}
  }
 ]
}
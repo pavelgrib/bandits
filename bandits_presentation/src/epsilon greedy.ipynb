{
 "metadata": {
  "name": ""
 },
 "nbformat": 3,
 "nbformat_minor": 0,
 "worksheets": [
  {
   "cells": [
    {
     "cell_type": "markdown",
     "metadata": {},
     "source": [
      "Useful imports"
     ]
    },
    {
     "cell_type": "code",
     "collapsed": false,
     "input": [
      "from __future__ import division # in the future all numbers will be treated equally\n",
      "import numpy as np\n",
      "import scipy as sp\n",
      "import pandas as pd\n",
      "import matplotlib.pyplot as plt"
     ],
     "language": "python",
     "metadata": {},
     "outputs": [],
     "prompt_number": 52
    },
    {
     "cell_type": "markdown",
     "metadata": {},
     "source": [
      "Let's assume we are trying to determine between 10 different colors (i.e. bandits): $c_1, c_2, \\ldots, c_{10}$ for a button on our site.  We call it a success if the user clicks on the button that was served, otherwise it's a failure.  Also, we will set it up so that the color $c_4$ is the winner (so it will have the highest $\\alpha$)."
     ]
    },
    {
     "cell_type": "code",
     "collapsed": false,
     "input": [
      "user_visits = 10000\n",
      "alphas = [0.01, 0.008, 0.022, 0.019, 0.038, 0.036, 0.029, 0.015, 0.003, 0.011]\n",
      "bandits = pd.DataFrame(data=1, columns=['wins', 'count', 'perf', 'alpha'], index = range(10))\n",
      "bandits['alpha'] = alphas\n",
      "epsilon = 0.3\n",
      "\n",
      "randoms2 = np.random.rand(user_visits)\n",
      "randoms1 = np.random.rand(user_visits)\n",
      "\n",
      "bandits"
     ],
     "language": "python",
     "metadata": {},
     "outputs": [
      {
       "html": [
        "<div style=\"max-height:1000px;max-width:1500px;overflow:auto;\">\n",
        "<table border=\"1\" class=\"dataframe\">\n",
        "  <thead>\n",
        "    <tr style=\"text-align: right;\">\n",
        "      <th></th>\n",
        "      <th>wins</th>\n",
        "      <th>count</th>\n",
        "      <th>perf</th>\n",
        "      <th>alpha</th>\n",
        "    </tr>\n",
        "  </thead>\n",
        "  <tbody>\n",
        "    <tr>\n",
        "      <th>0</th>\n",
        "      <td> 1</td>\n",
        "      <td> 1</td>\n",
        "      <td> 1</td>\n",
        "      <td> 0.010</td>\n",
        "    </tr>\n",
        "    <tr>\n",
        "      <th>1</th>\n",
        "      <td> 1</td>\n",
        "      <td> 1</td>\n",
        "      <td> 1</td>\n",
        "      <td> 0.008</td>\n",
        "    </tr>\n",
        "    <tr>\n",
        "      <th>2</th>\n",
        "      <td> 1</td>\n",
        "      <td> 1</td>\n",
        "      <td> 1</td>\n",
        "      <td> 0.022</td>\n",
        "    </tr>\n",
        "    <tr>\n",
        "      <th>3</th>\n",
        "      <td> 1</td>\n",
        "      <td> 1</td>\n",
        "      <td> 1</td>\n",
        "      <td> 0.019</td>\n",
        "    </tr>\n",
        "    <tr>\n",
        "      <th>4</th>\n",
        "      <td> 1</td>\n",
        "      <td> 1</td>\n",
        "      <td> 1</td>\n",
        "      <td> 0.038</td>\n",
        "    </tr>\n",
        "    <tr>\n",
        "      <th>5</th>\n",
        "      <td> 1</td>\n",
        "      <td> 1</td>\n",
        "      <td> 1</td>\n",
        "      <td> 0.036</td>\n",
        "    </tr>\n",
        "    <tr>\n",
        "      <th>6</th>\n",
        "      <td> 1</td>\n",
        "      <td> 1</td>\n",
        "      <td> 1</td>\n",
        "      <td> 0.029</td>\n",
        "    </tr>\n",
        "    <tr>\n",
        "      <th>7</th>\n",
        "      <td> 1</td>\n",
        "      <td> 1</td>\n",
        "      <td> 1</td>\n",
        "      <td> 0.015</td>\n",
        "    </tr>\n",
        "    <tr>\n",
        "      <th>8</th>\n",
        "      <td> 1</td>\n",
        "      <td> 1</td>\n",
        "      <td> 1</td>\n",
        "      <td> 0.003</td>\n",
        "    </tr>\n",
        "    <tr>\n",
        "      <th>9</th>\n",
        "      <td> 1</td>\n",
        "      <td> 1</td>\n",
        "      <td> 1</td>\n",
        "      <td> 0.011</td>\n",
        "    </tr>\n",
        "  </tbody>\n",
        "</table>\n",
        "<p>10 rows \u00d7 4 columns</p>\n",
        "</div>"
       ],
       "metadata": {},
       "output_type": "pyout",
       "prompt_number": 55,
       "text": [
        "   wins  count  perf  alpha\n",
        "0     1      1     1  0.010\n",
        "1     1      1     1  0.008\n",
        "2     1      1     1  0.022\n",
        "3     1      1     1  0.019\n",
        "4     1      1     1  0.038\n",
        "5     1      1     1  0.036\n",
        "6     1      1     1  0.029\n",
        "7     1      1     1  0.015\n",
        "8     1      1     1  0.003\n",
        "9     1      1     1  0.011\n",
        "\n",
        "[10 rows x 4 columns]"
       ]
      }
     ],
     "prompt_number": 55
    },
    {
     "cell_type": "code",
     "collapsed": false,
     "input": [
      "for i in range(user_visits):\n",
      "    if not i % 1000:\n",
      "        print(i)\n",
      "    if randoms1[i] < epsilon:  # winner gets served\n",
      "        # serve winner\n",
      "        winner = bandits[bandits['perf']==bandits['perf'].max()]\n",
      "        if isinstance(winner, pd.DataFrame):\n",
      "            winneridx = winner.index[0]\n",
      "        else:\n",
      "            winneridx = winner.name\n",
      "    else:\n",
      "        # serve a random bandit\n",
      "        winneridx = np.random.randint(0, 10)\n",
      "    \n",
      "    bandits['count'].ix[winneridx] += 1\n",
      "    if randoms2[i] < bandits['alpha'].ix[winneridx]:\n",
      "        bandits['wins'].ix[winneridx] += 1\n",
      "    \n",
      "    bandits['perf'] = bandits['wins'] / bandits['count']"
     ],
     "language": "python",
     "metadata": {},
     "outputs": [
      {
       "output_type": "stream",
       "stream": "stdout",
       "text": [
        "0\n",
        "1000"
       ]
      },
      {
       "output_type": "stream",
       "stream": "stdout",
       "text": [
        "\n",
        "2000"
       ]
      },
      {
       "output_type": "stream",
       "stream": "stdout",
       "text": [
        "\n",
        "3000"
       ]
      },
      {
       "output_type": "stream",
       "stream": "stdout",
       "text": [
        "\n",
        "4000"
       ]
      },
      {
       "output_type": "stream",
       "stream": "stdout",
       "text": [
        "\n",
        "5000"
       ]
      },
      {
       "output_type": "stream",
       "stream": "stdout",
       "text": [
        "\n",
        "6000"
       ]
      },
      {
       "output_type": "stream",
       "stream": "stdout",
       "text": [
        "\n",
        "7000"
       ]
      },
      {
       "output_type": "stream",
       "stream": "stdout",
       "text": [
        "\n",
        "8000"
       ]
      },
      {
       "output_type": "stream",
       "stream": "stdout",
       "text": [
        "\n",
        "9000"
       ]
      },
      {
       "output_type": "stream",
       "stream": "stdout",
       "text": [
        "\n"
       ]
      }
     ],
     "prompt_number": 57
    },
    {
     "cell_type": "code",
     "collapsed": false,
     "input": [
      "bandits"
     ],
     "language": "python",
     "metadata": {},
     "outputs": [
      {
       "html": [
        "<div style=\"max-height:1000px;max-width:1500px;overflow:auto;\">\n",
        "<table border=\"1\" class=\"dataframe\">\n",
        "  <thead>\n",
        "    <tr style=\"text-align: right;\">\n",
        "      <th></th>\n",
        "      <th>wins</th>\n",
        "      <th>count</th>\n",
        "      <th>perf</th>\n",
        "      <th>alpha</th>\n",
        "    </tr>\n",
        "  </thead>\n",
        "  <tbody>\n",
        "    <tr>\n",
        "      <th>0</th>\n",
        "      <td>  8</td>\n",
        "      <td>  677</td>\n",
        "      <td> 0.011817</td>\n",
        "      <td> 0.010</td>\n",
        "    </tr>\n",
        "    <tr>\n",
        "      <th>1</th>\n",
        "      <td>  7</td>\n",
        "      <td>  708</td>\n",
        "      <td> 0.009887</td>\n",
        "      <td> 0.008</td>\n",
        "    </tr>\n",
        "    <tr>\n",
        "      <th>2</th>\n",
        "      <td> 13</td>\n",
        "      <td>  711</td>\n",
        "      <td> 0.018284</td>\n",
        "      <td> 0.022</td>\n",
        "    </tr>\n",
        "    <tr>\n",
        "      <th>3</th>\n",
        "      <td> 14</td>\n",
        "      <td>  680</td>\n",
        "      <td> 0.020588</td>\n",
        "      <td> 0.019</td>\n",
        "    </tr>\n",
        "    <tr>\n",
        "      <th>4</th>\n",
        "      <td> 68</td>\n",
        "      <td> 1903</td>\n",
        "      <td> 0.035733</td>\n",
        "      <td> 0.038</td>\n",
        "    </tr>\n",
        "    <tr>\n",
        "      <th>5</th>\n",
        "      <td> 16</td>\n",
        "      <td>  675</td>\n",
        "      <td> 0.023704</td>\n",
        "      <td> 0.036</td>\n",
        "    </tr>\n",
        "    <tr>\n",
        "      <th>6</th>\n",
        "      <td> 88</td>\n",
        "      <td> 2556</td>\n",
        "      <td> 0.034429</td>\n",
        "      <td> 0.029</td>\n",
        "    </tr>\n",
        "    <tr>\n",
        "      <th>7</th>\n",
        "      <td> 15</td>\n",
        "      <td>  690</td>\n",
        "      <td> 0.021739</td>\n",
        "      <td> 0.015</td>\n",
        "    </tr>\n",
        "    <tr>\n",
        "      <th>8</th>\n",
        "      <td>  3</td>\n",
        "      <td>  710</td>\n",
        "      <td> 0.004225</td>\n",
        "      <td> 0.003</td>\n",
        "    </tr>\n",
        "    <tr>\n",
        "      <th>9</th>\n",
        "      <td>  7</td>\n",
        "      <td>  700</td>\n",
        "      <td> 0.010000</td>\n",
        "      <td> 0.011</td>\n",
        "    </tr>\n",
        "  </tbody>\n",
        "</table>\n",
        "<p>10 rows \u00d7 4 columns</p>\n",
        "</div>"
       ],
       "metadata": {},
       "output_type": "pyout",
       "prompt_number": 58,
       "text": [
        "   wins  count      perf  alpha\n",
        "0     8    677  0.011817  0.010\n",
        "1     7    708  0.009887  0.008\n",
        "2    13    711  0.018284  0.022\n",
        "3    14    680  0.020588  0.019\n",
        "4    68   1903  0.035733  0.038\n",
        "5    16    675  0.023704  0.036\n",
        "6    88   2556  0.034429  0.029\n",
        "7    15    690  0.021739  0.015\n",
        "8     3    710  0.004225  0.003\n",
        "9     7    700  0.010000  0.011\n",
        "\n",
        "[10 rows x 4 columns]"
       ]
      }
     ],
     "prompt_number": 58
    },
    {
     "cell_type": "code",
     "collapsed": false,
     "input": [
      "plt.bar(bandits.index, bandits['perf'])\n",
      "plt.plot(bandits['alpha'], 'r*', markersize=10)\n",
      "plt.show()"
     ],
     "language": "python",
     "metadata": {},
     "outputs": [
      {
       "metadata": {},
       "output_type": "display_data",
       "png": "[encoded data removed]",
       "text": [
        "<matplotlib.figure.Figure at 0x104b50250>"
       ]
      }
     ],
     "prompt_number": 59
    },
    {
     "cell_type": "code",
     "collapsed": false,
     "input": [],
     "language": "python",
     "metadata": {},
     "outputs": [],
     "prompt_number": 59
    },
    {
     "cell_type": "code",
     "collapsed": false,
     "input": [],
     "language": "python",
     "metadata": {},
     "outputs": [],
     "prompt_number": 59
    },
    {
     "cell_type": "code",
     "collapsed": false,
     "input": [],
     "language": "python",
     "metadata": {},
     "outputs": [],
     "prompt_number": 80
    },
    {
     "cell_type": "code",
     "collapsed": false,
     "input": [],
     "language": "python",
     "metadata": {},
     "outputs": [],
     "prompt_number": 17
    },
    {
     "cell_type": "code",
     "collapsed": false,
     "input": [],
     "language": "python",
     "metadata": {},
     "outputs": [],
     "prompt_number": 17
    },
    {
     "cell_type": "code",
     "collapsed": false,
     "input": [],
     "language": "python",
     "metadata": {},
     "outputs": [],
     "prompt_number": 17
    },
    {
     "cell_type": "markdown",
     "metadata": {},
     "source": [
      "Regret is the difference between the optimal strategy and the "
     ]
    },
    {
     "cell_type": "code",
     "collapsed": false,
     "input": [
      "ab_regret = np.zeros((user_visits * 4, 1))\n",
      "epsilon_regret = np.zeros((user_visits * 4, 1))\n",
      "\n",
      "ab = {i: {'count': 1, 'won': 1, 'perf': 1} for i in range(10)}"
     ],
     "language": "python",
     "metadata": {},
     "outputs": [],
     "prompt_number": 60
    },
    {
     "cell_type": "code",
     "collapsed": false,
     "input": [
      "randoms3 = np.random.rand(user_visits)\n",
      "randoms2 = np.random.rand(user_visits)\n",
      "randoms1 = np.random.rand(user_visits)\n",
      "\n",
      "rnd = 0\n",
      "for i in range(user_visits):\n",
      "    epsilon_won = 0\n",
      "    ab_won = 0\n",
      "    \n",
      "    optimal = 1 if randoms2[i] < max(bandits.alpha) else 0\n",
      "    \n",
      "    # i hate waiting without feedback\n",
      "    if not i % 1000:\n",
      "        print(i)\n",
      "    \n",
      "    ab_winner = int(randoms3[i] * 10)\n",
      "    ab[ab_winner]['count'] += 1\n",
      "    if randoms2[i] < bandits['alpha'].ix[ab_winner]:\n",
      "        ab[ab_winner]['won'] += 1\n",
      "        ab_won = 1\n",
      "    \n",
      "    if randoms1[i] < epsilon:  # winner gets served\n",
      "        # serve winner\n",
      "        winner = bandits[bandits['perf']==bandits['perf'].max()]\n",
      "        if isinstance(winner, pd.DataFrame):\n",
      "            winneridx = winner.index[0]\n",
      "        else:\n",
      "            winneridx = winner.name\n",
      "    else:\n",
      "        # serve a random bandit\n",
      "        winneridx = np.random.randint(0, 10)\n",
      "    \n",
      "    bandits['count'].ix[winneridx] += 1\n",
      "    if randoms2[i] < bandits['alpha'].ix[winneridx]:\n",
      "        epsilon_won = 1\n",
      "        bandits['wins'].ix[winneridx] += 1\n",
      "    \n",
      "    bandits['perf'] = bandits['wins'] / bandits['count']\n",
      "    \n",
      "    epsilon_regret[rnd * user_visits + i] = optimal - epsilon_won\n",
      "    ab_regret[rnd * user_visits + i] = optimal - ab_won"
     ],
     "language": "python",
     "metadata": {},
     "outputs": [
      {
       "output_type": "stream",
       "stream": "stdout",
       "text": [
        "0\n",
        "1000"
       ]
      },
      {
       "output_type": "stream",
       "stream": "stdout",
       "text": [
        "\n",
        "2000"
       ]
      },
      {
       "output_type": "stream",
       "stream": "stdout",
       "text": [
        "\n",
        "3000"
       ]
      },
      {
       "output_type": "stream",
       "stream": "stdout",
       "text": [
        "\n",
        "4000"
       ]
      },
      {
       "output_type": "stream",
       "stream": "stdout",
       "text": [
        "\n",
        "5000"
       ]
      },
      {
       "output_type": "stream",
       "stream": "stdout",
       "text": [
        "\n",
        "6000"
       ]
      },
      {
       "output_type": "stream",
       "stream": "stdout",
       "text": [
        "\n",
        "7000"
       ]
      },
      {
       "output_type": "stream",
       "stream": "stdout",
       "text": [
        "\n",
        "8000"
       ]
      },
      {
       "output_type": "stream",
       "stream": "stdout",
       "text": [
        "\n",
        "9000"
       ]
      },
      {
       "output_type": "stream",
       "stream": "stdout",
       "text": [
        "\n"
       ]
      }
     ],
     "prompt_number": 61
    },
    {
     "cell_type": "code",
     "collapsed": false,
     "input": [
      "for i in range(10):\n",
      "    ab[i]['perf'] = ab[i]['won'] / ab[i]['count']  \n",
      "ab"
     ],
     "language": "python",
     "metadata": {},
     "outputs": [
      {
       "metadata": {},
       "output_type": "pyout",
       "prompt_number": 62,
       "text": [
        "{0: {'count': 1039, 'perf': 0.011549566891241578, 'won': 12},\n",
        " 1: {'count': 1022, 'perf': 0.00684931506849315, 'won': 7},\n",
        " 2: {'count': 994, 'perf': 0.035211267605633804, 'won': 35},\n",
        " 3: {'count': 995, 'perf': 0.024120603015075376, 'won': 24},\n",
        " 4: {'count': 977, 'perf': 0.04094165813715456, 'won': 40},\n",
        " 5: {'count': 1010, 'perf': 0.03564356435643564, 'won': 36},\n",
        " 6: {'count': 979, 'perf': 0.030643513789581207, 'won': 30},\n",
        " 7: {'count': 1001, 'perf': 0.014985014985014986, 'won': 15},\n",
        " 8: {'count': 997, 'perf': 0.007021063189568706, 'won': 7},\n",
        " 9: {'count': 996, 'perf': 0.01706827309236948, 'won': 17}}"
       ]
      }
     ],
     "prompt_number": 62
    },
    {
     "cell_type": "code",
     "collapsed": false,
     "input": [
      "bandits"
     ],
     "language": "python",
     "metadata": {},
     "outputs": [
      {
       "html": [
        "<div style=\"max-height:1000px;max-width:1500px;overflow:auto;\">\n",
        "<table border=\"1\" class=\"dataframe\">\n",
        "  <thead>\n",
        "    <tr style=\"text-align: right;\">\n",
        "      <th></th>\n",
        "      <th>wins</th>\n",
        "      <th>count</th>\n",
        "      <th>perf</th>\n",
        "      <th>alpha</th>\n",
        "    </tr>\n",
        "  </thead>\n",
        "  <tbody>\n",
        "    <tr>\n",
        "      <th>0</th>\n",
        "      <td>  16</td>\n",
        "      <td> 1411</td>\n",
        "      <td> 0.011339</td>\n",
        "      <td> 0.010</td>\n",
        "    </tr>\n",
        "    <tr>\n",
        "      <th>1</th>\n",
        "      <td>  10</td>\n",
        "      <td> 1395</td>\n",
        "      <td> 0.007168</td>\n",
        "      <td> 0.008</td>\n",
        "    </tr>\n",
        "    <tr>\n",
        "      <th>2</th>\n",
        "      <td>  28</td>\n",
        "      <td> 1415</td>\n",
        "      <td> 0.019788</td>\n",
        "      <td> 0.022</td>\n",
        "    </tr>\n",
        "    <tr>\n",
        "      <th>3</th>\n",
        "      <td>  32</td>\n",
        "      <td> 1400</td>\n",
        "      <td> 0.022857</td>\n",
        "      <td> 0.019</td>\n",
        "    </tr>\n",
        "    <tr>\n",
        "      <th>4</th>\n",
        "      <td> 235</td>\n",
        "      <td> 5604</td>\n",
        "      <td> 0.041934</td>\n",
        "      <td> 0.038</td>\n",
        "    </tr>\n",
        "    <tr>\n",
        "      <th>5</th>\n",
        "      <td>  35</td>\n",
        "      <td> 1337</td>\n",
        "      <td> 0.026178</td>\n",
        "      <td> 0.036</td>\n",
        "    </tr>\n",
        "    <tr>\n",
        "      <th>6</th>\n",
        "      <td> 114</td>\n",
        "      <td> 3252</td>\n",
        "      <td> 0.035055</td>\n",
        "      <td> 0.029</td>\n",
        "    </tr>\n",
        "    <tr>\n",
        "      <th>7</th>\n",
        "      <td>  22</td>\n",
        "      <td> 1358</td>\n",
        "      <td> 0.016200</td>\n",
        "      <td> 0.015</td>\n",
        "    </tr>\n",
        "    <tr>\n",
        "      <th>8</th>\n",
        "      <td>   4</td>\n",
        "      <td> 1397</td>\n",
        "      <td> 0.002863</td>\n",
        "      <td> 0.003</td>\n",
        "    </tr>\n",
        "    <tr>\n",
        "      <th>9</th>\n",
        "      <td>  16</td>\n",
        "      <td> 1441</td>\n",
        "      <td> 0.011103</td>\n",
        "      <td> 0.011</td>\n",
        "    </tr>\n",
        "  </tbody>\n",
        "</table>\n",
        "<p>10 rows \u00d7 4 columns</p>\n",
        "</div>"
       ],
       "metadata": {},
       "output_type": "pyout",
       "prompt_number": 63,
       "text": [
        "   wins  count      perf  alpha\n",
        "0    16   1411  0.011339  0.010\n",
        "1    10   1395  0.007168  0.008\n",
        "2    28   1415  0.019788  0.022\n",
        "3    32   1400  0.022857  0.019\n",
        "4   235   5604  0.041934  0.038\n",
        "5    35   1337  0.026178  0.036\n",
        "6   114   3252  0.035055  0.029\n",
        "7    22   1358  0.016200  0.015\n",
        "8     4   1397  0.002863  0.003\n",
        "9    16   1441  0.011103  0.011\n",
        "\n",
        "[10 rows x 4 columns]"
       ]
      }
     ],
     "prompt_number": 63
    },
    {
     "cell_type": "code",
     "collapsed": false,
     "input": [
      "plt.plot(ab_regret[:user_visits].cumsum())\n",
      "plt.plot(epsilon_regret[:user_visits].cumsum())\n",
      "plt.show()"
     ],
     "language": "python",
     "metadata": {},
     "outputs": [
      {
       "metadata": {},
       "output_type": "display_data",
       "png": "[encoded data removed]",
       "text": [
        "<matplotlib.figure.Figure at 0x104b639d0>"
       ]
      }
     ],
     "prompt_number": 64
    },
    {
     "cell_type": "code",
     "collapsed": false,
     "input": [],
     "language": "python",
     "metadata": {},
     "outputs": [],
     "prompt_number": 51
    },
    {
     "cell_type": "code",
     "collapsed": false,
     "input": [],
     "language": "python",
     "metadata": {},
     "outputs": [],
     "prompt_number": 51
    },
    {
     "cell_type": "code",
     "collapsed": false,
     "input": [],
     "language": "python",
     "metadata": {},
     "outputs": []
    }
   ],
   "metadata": {}
  }
 ]
}
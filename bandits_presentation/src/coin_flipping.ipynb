{
 "metadata": {
  "name": ""
 },
 "nbformat": 3,
 "nbformat_minor": 0,
 "worksheets": [
  {
   "cells": [
    {
     "cell_type": "markdown",
     "metadata": {},
     "source": [
      "Importing useful packages and defining an"
     ]
    },
    {
     "cell_type": "code",
     "collapsed": false,
     "input": [
      "import numpy as np\n",
      "import scipy as sp\n",
      "from scipy import stats\n",
      "import matplotlib.pyplot as plt"
     ],
     "language": "python",
     "metadata": {},
     "outputs": [],
     "prompt_number": 100
    },
    {
     "cell_type": "markdown",
     "metadata": {},
     "source": [
      "Example of the distribution of the number of heads flipped after N trials"
     ]
    },
    {
     "cell_type": "code",
     "collapsed": false,
     "input": [
      "N = 100\n",
      "\n",
      "plt.hist(sp.random.binomial(N, 0.5, N), bins=.3 * N, range=[N * .35, N * .65])\n",
      "x = np.linspace(N * .35, N * .65, .3 * N + 1)\n",
      "rv = stats.binom(p = 0.5, n = N)\n",
      "y = N * np.apply_along_axis(rv.pmf, 0, x)\n",
      "plt.plot(x, y)\n",
      "plt.vlines(x = [48, 52], ymin=0, ymax=N / 5, colors=['r', 'g'], linewidths=2)\n",
      "plt.show()"
     ],
     "language": "python",
     "metadata": {},
     "outputs": [
      {
       "metadata": {},
       "output_type": "display_data",
       "png": "[encoded data removed]",
       "text": [
        "<matplotlib.figure.Figure at 0x115b52e50>"
       ]
      }
     ],
     "prompt_number": 101
    },
    {
     "cell_type": "markdown",
     "metadata": {},
     "source": [
      "Now we sample from the binomial and look at how the differences are distributed"
     ]
    },
    {
     "cell_type": "code",
     "collapsed": false,
     "input": [
      "x = sp.random.binomial(100, 0.5, 100) - sp.random.binomial(100, 0.5, 100)"
     ],
     "language": "python",
     "metadata": {},
     "outputs": [],
     "prompt_number": 102
    },
    {
     "cell_type": "code",
     "collapsed": false,
     "input": [
      "plt.hist(x)"
     ],
     "language": "python",
     "metadata": {},
     "outputs": [
      {
       "metadata": {},
       "output_type": "pyout",
       "prompt_number": 103,
       "text": [
        "(array([  2.,   1.,  10.,  13.,  16.,  21.,  19.,   7.,   7.,   4.]),\n",
        " array([-20. , -16.2, -12.4,  -8.6,  -4.8,  -1. ,   2.8,   6.6,  10.4,\n",
        "        14.2,  18. ]),\n",
        " <a list of 10 Patch objects>)"
       ]
      },
      {
       "metadata": {},
       "output_type": "display_data",
       "png": "[encoded data removed]",
       "text": [
        "<matplotlib.figure.Figure at 0x1164bdc90>"
       ]
      }
     ],
     "prompt_number": 103
    },
    {
     "cell_type": "code",
     "collapsed": false,
     "input": [
      "sample1 = sp.random.binomial(1, 0.5, 100)\n",
      "sample2 = sp.random.binomial(1, 0.5, 100)\n",
      "\n",
      "print(np.mean(sample1), np.mean(sample2))\n",
      "print(np.var(sample1), np.var(sample2))"
     ],
     "language": "python",
     "metadata": {},
     "outputs": [
      {
       "output_type": "stream",
       "stream": "stdout",
       "text": [
        "(0.52000000000000002, 0.5)\n",
        "(0.24959999999999977, 0.25)\n"
       ]
      }
     ],
     "prompt_number": 108
    },
    {
     "cell_type": "code",
     "collapsed": false,
     "input": [
      "t = abs((np.mean(sample2) - np.mean(sample1))) / np.sqrt(np.var(sample1)/100 + np.var(sample2)/100)\n",
      "print(t)"
     ],
     "language": "python",
     "metadata": {},
     "outputs": [
      {
       "output_type": "stream",
       "stream": "stdout",
       "text": [
        "0.282955917487\n"
       ]
      }
     ],
     "prompt_number": 110
    },
    {
     "cell_type": "markdown",
     "metadata": {},
     "source": [
      "After having calculated a t-statistic of 0.71, we consult a t-test table (https://home.comcast.net/~sharov/PopEcol/tables/t.html) and in order to reject the hypothesis that our two samples came from different distributions, we would need to be sure that our t-statistic is highly unlikely, i.e. shows up less than 5% of the time... this would mean a t-statistic of 1.97 (according to the table).  Notice that there are three ways to increase the t-statistic: \n",
      "\n",
      "* Increase the differences of the means\n",
      "* Decrease the variances\n",
      "* Increase the number of samples $n_1$ and $n_1$"
     ]
    },
    {
     "cell_type": "code",
     "collapsed": false,
     "input": [],
     "language": "python",
     "metadata": {},
     "outputs": []
    }
   ],
   "metadata": {}
  }
 ]
}